{
 "cells": [
  {
   "cell_type": "markdown",
   "metadata": {},
   "source": [
    "# The Power of Plots\n",
    "### Matplotlib Homework Assignment\n",
    " Author: Alex Schanne"
   ]
  },
  {
   "cell_type": "markdown",
   "metadata": {},
   "source": [
    "In this assignment, we will be working for Pymaceuticals Inc. on their most recent animal study. We will be generating all the tables and figures needed for the technical report of the study. Additionally we will provide a summary of our results at the end. \n",
    "<p>More specifically this report will:\n",
    "<ul>\n",
    "    <li> Clean all the data for duplicates.\n",
    "    <li> Generate a statistical summary of the data, including mean, median, variance, standard deviation and SEM of the tumor volume in each drug regimen.\n",
    "    <li> Use Panda's DataFrame and Matplotlib's Pyplot to visualize.\n",
    "    <li> Calculate the final tumor volume of each mouse across the four most promising treatment regimens: Capomulin, Ramicane, Infubinol, and Ceftamin, in order to look at the quartiles and determine outliers.\n",
    "    <li> Create a Box and Whiskers plot of the final tumor volume for all four treatment regimens and highlight any potential outliers in distict color and style. \n",
    "    <li> Select a Capomulin mouse and generate a plot of time versus tumor volume. \n",
    "    <li> Generate a scatter plot of mouse weight versus average tumor volume for Capomulin. And calculate the correlation coefficient and linear regression model for that relationship.\n",
    "</ul>"
   ]
  },
  {
   "cell_type": "markdown",
   "metadata": {},
   "source": [
    "## Trends and Observations"
   ]
  },
  {
   "cell_type": "markdown",
   "metadata": {},
   "source": [
    "#### First Observation\n",
    "The first thing we notice when we take a look at this study is the subject population. They carefully tried to keep the population half and half male-female and equal for each drug regimen. So at least superficially (without knowing any other attributes of the population) that the trial was trying to be 'fair' for each regimen. The only regimen that did not have 25 mouse subjects was Stelasyn."
   ]
  },
  {
   "cell_type": "markdown",
   "metadata": {},
   "source": [
    "#### Second Observation\n",
    "Another immediate observation we can make about this data is from the data summary of tumor volume over time. We see that the variance in tumor volume is low to start but seem to increase throughout the timepoints. This is to be expected if we are to believe that the study was set up correctly and we are seeing how each mouse responds to the treatment idiosyncratically. In any experiment, setting the initial conditions, in this case ensuring approximately equal tumor volumes in the mice, will allow a better measurement of how different variables are affected by the controlled variables. \n",
    "<p>\n",
    "For instance the mouse population in the Capomulin treatment group, show a 0.00 variance at timepoint 0, but by timepoint 45, they show a variance of 19.035028."
   ]
  },
  {
   "cell_type": "markdown",
   "metadata": {},
   "source": [
    "#### Third Observation\n",
    "Another thing we notice is the range and skew of the weight data for the top two of the top four drugs seem to be smaller and lower. Or rather, their range is not as large. Neither Capomulin or Ramicane have outliers and their interquartile range is below 10, meaning the majority of the mice's weights data falls within 10 mm3 of each other. Additionally the mice of those regimen's weigh, on average, less than the mice of the other regimens. \n",
    "\n",
    "*This seems to suggest that lower weight is a positive outcome of the drug treatments. This is not explicitly stated. So it should be noted that this is only inferred. Any conclusions based on this assumption should be re-evaluated, and not be considered final. "
   ]
  },
  {
   "cell_type": "markdown",
   "metadata": {},
   "source": [
    "## Setting up and Cleaning the Data"
   ]
  },
  {
   "cell_type": "code",
   "execution_count": 1,
   "metadata": {},
   "outputs": [
    {
     "data": {
      "text/html": [
       "<div>\n",
       "<style scoped>\n",
       "    .dataframe tbody tr th:only-of-type {\n",
       "        vertical-align: middle;\n",
       "    }\n",
       "\n",
       "    .dataframe tbody tr th {\n",
       "        vertical-align: top;\n",
       "    }\n",
       "\n",
       "    .dataframe thead th {\n",
       "        text-align: right;\n",
       "    }\n",
       "</style>\n",
       "<table border=\"1\" class=\"dataframe\">\n",
       "  <thead>\n",
       "    <tr style=\"text-align: right;\">\n",
       "      <th></th>\n",
       "      <th>mouse_id</th>\n",
       "      <th>drug</th>\n",
       "      <th>sex</th>\n",
       "      <th>age</th>\n",
       "      <th>weight</th>\n",
       "      <th>timepoint</th>\n",
       "      <th>tumor_volume</th>\n",
       "      <th>metastatic_sites</th>\n",
       "    </tr>\n",
       "  </thead>\n",
       "  <tbody>\n",
       "    <tr>\n",
       "      <th>0</th>\n",
       "      <td>k403</td>\n",
       "      <td>Ramicane</td>\n",
       "      <td>Male</td>\n",
       "      <td>21</td>\n",
       "      <td>16</td>\n",
       "      <td>0</td>\n",
       "      <td>45.000000</td>\n",
       "      <td>0</td>\n",
       "    </tr>\n",
       "    <tr>\n",
       "      <th>1</th>\n",
       "      <td>k403</td>\n",
       "      <td>Ramicane</td>\n",
       "      <td>Male</td>\n",
       "      <td>21</td>\n",
       "      <td>16</td>\n",
       "      <td>5</td>\n",
       "      <td>38.825898</td>\n",
       "      <td>0</td>\n",
       "    </tr>\n",
       "    <tr>\n",
       "      <th>2</th>\n",
       "      <td>k403</td>\n",
       "      <td>Ramicane</td>\n",
       "      <td>Male</td>\n",
       "      <td>21</td>\n",
       "      <td>16</td>\n",
       "      <td>10</td>\n",
       "      <td>35.014271</td>\n",
       "      <td>1</td>\n",
       "    </tr>\n",
       "    <tr>\n",
       "      <th>3</th>\n",
       "      <td>k403</td>\n",
       "      <td>Ramicane</td>\n",
       "      <td>Male</td>\n",
       "      <td>21</td>\n",
       "      <td>16</td>\n",
       "      <td>15</td>\n",
       "      <td>34.223992</td>\n",
       "      <td>1</td>\n",
       "    </tr>\n",
       "    <tr>\n",
       "      <th>4</th>\n",
       "      <td>k403</td>\n",
       "      <td>Ramicane</td>\n",
       "      <td>Male</td>\n",
       "      <td>21</td>\n",
       "      <td>16</td>\n",
       "      <td>20</td>\n",
       "      <td>32.997729</td>\n",
       "      <td>1</td>\n",
       "    </tr>\n",
       "  </tbody>\n",
       "</table>\n",
       "</div>"
      ],
      "text/plain": [
       "  mouse_id      drug   sex  age  weight  timepoint  tumor_volume  \\\n",
       "0     k403  Ramicane  Male   21      16          0     45.000000   \n",
       "1     k403  Ramicane  Male   21      16          5     38.825898   \n",
       "2     k403  Ramicane  Male   21      16         10     35.014271   \n",
       "3     k403  Ramicane  Male   21      16         15     34.223992   \n",
       "4     k403  Ramicane  Male   21      16         20     32.997729   \n",
       "\n",
       "   metastatic_sites  \n",
       "0                 0  \n",
       "1                 0  \n",
       "2                 1  \n",
       "3                 1  \n",
       "4                 1  "
      ]
     },
     "execution_count": 1,
     "metadata": {},
     "output_type": "execute_result"
    }
   ],
   "source": [
    "#Importing dependencies and doing pre-work\n",
    "import pandas as pd\n",
    "import numpy as np\n",
    "import matplotlib.pyplot as plt\n",
    "import scipy.stats as st\n",
    "import plotly.graph_objects as go\n",
    "import plotly.offline as pyo\n",
    "\n",
    "#importing files and creating Dataframes\n",
    "mouse_path = \"data/Mouse_metadata.csv\"\n",
    "results_path = \"data/Study_results.csv\"\n",
    "\n",
    "mouse_pd = pd.read_csv(mouse_path)\n",
    "study_pd = pd.read_csv(results_path)\n",
    "\n",
    "\n",
    "#merging dataframes into one, on 'Mouse ID'\n",
    "stewart_little = pd.merge(mouse_pd, study_pd, on = \"Mouse ID\")\n",
    "\n",
    "#Cleaning the columns names to ameliorate typing\n",
    "mouse_study = stewart_little.rename(columns = {'Mouse ID': 'mouse_id', \n",
    "                                              'Drug Regimen': 'drug',\n",
    "                                              'Sex': 'sex',\n",
    "                                              'Age_months': 'age',\n",
    "                                              'Weight (g)': 'weight',\n",
    "                                              'Timepoint': 'timepoint',\n",
    "                                              'Tumor Volume (mm3)': 'tumor_volume',\n",
    "                                              'Metastatic Sites': 'metastatic_sites'})\n",
    "mouse_study.head()"
   ]
  },
  {
   "cell_type": "code",
   "execution_count": 2,
   "metadata": {},
   "outputs": [
    {
     "name": "stdout",
     "output_type": "stream",
     "text": [
      "1893 249\n"
     ]
    }
   ],
   "source": [
    "#Checking amount of data in study versus how many unique mouse ids are included in the study \n",
    "print(len(mouse_study), mouse_study['mouse_id'].nunique())"
   ]
  },
  {
   "cell_type": "code",
   "execution_count": 3,
   "metadata": {},
   "outputs": [
    {
     "data": {
      "text/plain": [
       "Capomulin    230\n",
       "Ramicane     228\n",
       "Ketapril     188\n",
       "Naftisol     186\n",
       "Zoniferol    182\n",
       "Stelasyn     181\n",
       "Placebo      181\n",
       "Infubinol    178\n",
       "Ceftamin     178\n",
       "Propriva     161\n",
       "Name: drug, dtype: int64"
      ]
     },
     "execution_count": 3,
     "metadata": {},
     "output_type": "execute_result"
    }
   ],
   "source": [
    "#Checking the number of different drug regimens\n",
    "mouse_study['drug'].value_counts()"
   ]
  },
  {
   "cell_type": "code",
   "execution_count": 4,
   "metadata": {},
   "outputs": [
    {
     "data": {
      "text/html": [
       "<div>\n",
       "<style scoped>\n",
       "    .dataframe tbody tr th:only-of-type {\n",
       "        vertical-align: middle;\n",
       "    }\n",
       "\n",
       "    .dataframe tbody tr th {\n",
       "        vertical-align: top;\n",
       "    }\n",
       "\n",
       "    .dataframe thead th {\n",
       "        text-align: right;\n",
       "    }\n",
       "</style>\n",
       "<table border=\"1\" class=\"dataframe\">\n",
       "  <thead>\n",
       "    <tr style=\"text-align: right;\">\n",
       "      <th></th>\n",
       "      <th>mouse_id</th>\n",
       "      <th>drug</th>\n",
       "      <th>sex</th>\n",
       "      <th>age</th>\n",
       "      <th>weight</th>\n",
       "      <th>timepoint</th>\n",
       "      <th>tumor_volume</th>\n",
       "      <th>metastatic_sites</th>\n",
       "    </tr>\n",
       "  </thead>\n",
       "  <tbody>\n",
       "    <tr>\n",
       "      <th>0</th>\n",
       "      <td>k403</td>\n",
       "      <td>Ramicane</td>\n",
       "      <td>Male</td>\n",
       "      <td>21</td>\n",
       "      <td>16</td>\n",
       "      <td>0</td>\n",
       "      <td>45.0</td>\n",
       "      <td>0</td>\n",
       "    </tr>\n",
       "    <tr>\n",
       "      <th>10</th>\n",
       "      <td>s185</td>\n",
       "      <td>Capomulin</td>\n",
       "      <td>Female</td>\n",
       "      <td>3</td>\n",
       "      <td>17</td>\n",
       "      <td>0</td>\n",
       "      <td>45.0</td>\n",
       "      <td>0</td>\n",
       "    </tr>\n",
       "    <tr>\n",
       "      <th>20</th>\n",
       "      <td>x401</td>\n",
       "      <td>Capomulin</td>\n",
       "      <td>Female</td>\n",
       "      <td>16</td>\n",
       "      <td>15</td>\n",
       "      <td>0</td>\n",
       "      <td>45.0</td>\n",
       "      <td>0</td>\n",
       "    </tr>\n",
       "    <tr>\n",
       "      <th>30</th>\n",
       "      <td>m601</td>\n",
       "      <td>Capomulin</td>\n",
       "      <td>Male</td>\n",
       "      <td>22</td>\n",
       "      <td>17</td>\n",
       "      <td>0</td>\n",
       "      <td>45.0</td>\n",
       "      <td>0</td>\n",
       "    </tr>\n",
       "    <tr>\n",
       "      <th>40</th>\n",
       "      <td>g791</td>\n",
       "      <td>Ramicane</td>\n",
       "      <td>Male</td>\n",
       "      <td>11</td>\n",
       "      <td>16</td>\n",
       "      <td>0</td>\n",
       "      <td>45.0</td>\n",
       "      <td>0</td>\n",
       "    </tr>\n",
       "  </tbody>\n",
       "</table>\n",
       "</div>"
      ],
      "text/plain": [
       "   mouse_id       drug     sex  age  weight  timepoint  tumor_volume  \\\n",
       "0      k403   Ramicane    Male   21      16          0          45.0   \n",
       "10     s185  Capomulin  Female    3      17          0          45.0   \n",
       "20     x401  Capomulin  Female   16      15          0          45.0   \n",
       "30     m601  Capomulin    Male   22      17          0          45.0   \n",
       "40     g791   Ramicane    Male   11      16          0          45.0   \n",
       "\n",
       "    metastatic_sites  \n",
       "0                  0  \n",
       "10                 0  \n",
       "20                 0  \n",
       "30                 0  \n",
       "40                 0  "
      ]
     },
     "execution_count": 4,
     "metadata": {},
     "output_type": "execute_result"
    }
   ],
   "source": [
    "#Dropping the duplicate mice rows and keeping their initial row\n",
    "clean_complete = mouse_study.drop_duplicates(subset = 'mouse_id', keep = 'first', inplace = False) \n",
    "clean_complete.head()"
   ]
  },
  {
   "cell_type": "code",
   "execution_count": 5,
   "metadata": {},
   "outputs": [
    {
     "name": "stdout",
     "output_type": "stream",
     "text": [
      "249\n",
      "Infubinol    25\n",
      "Zoniferol    25\n",
      "Ramicane     25\n",
      "Propriva     25\n",
      "Capomulin    25\n",
      "Placebo      25\n",
      "Ceftamin     25\n",
      "Naftisol     25\n",
      "Ketapril     25\n",
      "Stelasyn     24\n",
      "Name: drug, dtype: int64\n"
     ]
    }
   ],
   "source": [
    "print(clean_complete['mouse_id'].count())\n",
    "print(clean_complete['drug'].value_counts())"
   ]
  },
  {
   "cell_type": "markdown",
   "metadata": {},
   "source": [
    "## Summary Statistics"
   ]
  },
  {
   "cell_type": "markdown",
   "metadata": {},
   "source": [
    "Now that we have created clean dataframes, combining the study results and the mice data, we will quickly go over a statistical summary of the data. That way we have a better understanding of the data's narrative and are better prepared to do more in-depth analysis later. "
   ]
  },
  {
   "cell_type": "code",
   "execution_count": 6,
   "metadata": {},
   "outputs": [
    {
     "data": {
      "text/html": [
       "<div>\n",
       "<style scoped>\n",
       "    .dataframe tbody tr th:only-of-type {\n",
       "        vertical-align: middle;\n",
       "    }\n",
       "\n",
       "    .dataframe tbody tr th {\n",
       "        vertical-align: top;\n",
       "    }\n",
       "\n",
       "    .dataframe thead tr th {\n",
       "        text-align: left;\n",
       "    }\n",
       "\n",
       "    .dataframe thead tr:last-of-type th {\n",
       "        text-align: right;\n",
       "    }\n",
       "</style>\n",
       "<table border=\"1\" class=\"dataframe\">\n",
       "  <thead>\n",
       "    <tr>\n",
       "      <th></th>\n",
       "      <th></th>\n",
       "      <th colspan=\"5\" halign=\"left\">tumor_volume</th>\n",
       "    </tr>\n",
       "    <tr>\n",
       "      <th></th>\n",
       "      <th></th>\n",
       "      <th>mean</th>\n",
       "      <th>median</th>\n",
       "      <th>var</th>\n",
       "      <th>std</th>\n",
       "      <th>sem</th>\n",
       "    </tr>\n",
       "    <tr>\n",
       "      <th>drug</th>\n",
       "      <th>timepoint</th>\n",
       "      <th></th>\n",
       "      <th></th>\n",
       "      <th></th>\n",
       "      <th></th>\n",
       "      <th></th>\n",
       "    </tr>\n",
       "  </thead>\n",
       "  <tbody>\n",
       "    <tr>\n",
       "      <th rowspan=\"5\" valign=\"top\">Capomulin</th>\n",
       "      <th>0</th>\n",
       "      <td>45.000000</td>\n",
       "      <td>45.000000</td>\n",
       "      <td>0.000000</td>\n",
       "      <td>0.000000</td>\n",
       "      <td>0.000000</td>\n",
       "    </tr>\n",
       "    <tr>\n",
       "      <th>5</th>\n",
       "      <td>44.266086</td>\n",
       "      <td>45.597064</td>\n",
       "      <td>5.030889</td>\n",
       "      <td>2.242964</td>\n",
       "      <td>0.448593</td>\n",
       "    </tr>\n",
       "    <tr>\n",
       "      <th>10</th>\n",
       "      <td>43.084291</td>\n",
       "      <td>43.421014</td>\n",
       "      <td>12.344133</td>\n",
       "      <td>3.513422</td>\n",
       "      <td>0.702684</td>\n",
       "    </tr>\n",
       "    <tr>\n",
       "      <th>15</th>\n",
       "      <td>42.064317</td>\n",
       "      <td>42.798160</td>\n",
       "      <td>16.878693</td>\n",
       "      <td>4.108369</td>\n",
       "      <td>0.838617</td>\n",
       "    </tr>\n",
       "    <tr>\n",
       "      <th>20</th>\n",
       "      <td>40.716325</td>\n",
       "      <td>40.716428</td>\n",
       "      <td>19.035028</td>\n",
       "      <td>4.362915</td>\n",
       "      <td>0.909731</td>\n",
       "    </tr>\n",
       "    <tr>\n",
       "      <th>...</th>\n",
       "      <th>...</th>\n",
       "      <td>...</td>\n",
       "      <td>...</td>\n",
       "      <td>...</td>\n",
       "      <td>...</td>\n",
       "      <td>...</td>\n",
       "    </tr>\n",
       "    <tr>\n",
       "      <th rowspan=\"5\" valign=\"top\">Zoniferol</th>\n",
       "      <th>25</th>\n",
       "      <td>55.432935</td>\n",
       "      <td>55.676604</td>\n",
       "      <td>5.808348</td>\n",
       "      <td>2.410052</td>\n",
       "      <td>0.602513</td>\n",
       "    </tr>\n",
       "    <tr>\n",
       "      <th>30</th>\n",
       "      <td>57.713531</td>\n",
       "      <td>57.419744</td>\n",
       "      <td>9.601024</td>\n",
       "      <td>3.098552</td>\n",
       "      <td>0.800043</td>\n",
       "    </tr>\n",
       "    <tr>\n",
       "      <th>35</th>\n",
       "      <td>60.089372</td>\n",
       "      <td>60.365832</td>\n",
       "      <td>10.876760</td>\n",
       "      <td>3.297993</td>\n",
       "      <td>0.881426</td>\n",
       "    </tr>\n",
       "    <tr>\n",
       "      <th>40</th>\n",
       "      <td>62.916692</td>\n",
       "      <td>62.274543</td>\n",
       "      <td>13.958456</td>\n",
       "      <td>3.736102</td>\n",
       "      <td>0.998515</td>\n",
       "    </tr>\n",
       "    <tr>\n",
       "      <th>45</th>\n",
       "      <td>65.960888</td>\n",
       "      <td>65.684689</td>\n",
       "      <td>14.100301</td>\n",
       "      <td>3.755037</td>\n",
       "      <td>1.003576</td>\n",
       "    </tr>\n",
       "  </tbody>\n",
       "</table>\n",
       "<p>100 rows × 5 columns</p>\n",
       "</div>"
      ],
      "text/plain": [
       "                    tumor_volume                                          \n",
       "                            mean     median        var       std       sem\n",
       "drug      timepoint                                                       \n",
       "Capomulin 0            45.000000  45.000000   0.000000  0.000000  0.000000\n",
       "          5            44.266086  45.597064   5.030889  2.242964  0.448593\n",
       "          10           43.084291  43.421014  12.344133  3.513422  0.702684\n",
       "          15           42.064317  42.798160  16.878693  4.108369  0.838617\n",
       "          20           40.716325  40.716428  19.035028  4.362915  0.909731\n",
       "...                          ...        ...        ...       ...       ...\n",
       "Zoniferol 25           55.432935  55.676604   5.808348  2.410052  0.602513\n",
       "          30           57.713531  57.419744   9.601024  3.098552  0.800043\n",
       "          35           60.089372  60.365832  10.876760  3.297993  0.881426\n",
       "          40           62.916692  62.274543  13.958456  3.736102  0.998515\n",
       "          45           65.960888  65.684689  14.100301  3.755037  1.003576\n",
       "\n",
       "[100 rows x 5 columns]"
      ]
     },
     "execution_count": 6,
     "metadata": {},
     "output_type": "execute_result"
    }
   ],
   "source": [
    "#Generating a summary statistics table for the tumor volume for each regimen\n",
    "drug_group = mouse_study.set_index(\"timepoint\").groupby(['drug', 'timepoint']).agg({'tumor_volume': ['mean', 'median', 'var', 'std', 'sem']})\n",
    "drug_group"
   ]
  },
  {
   "cell_type": "markdown",
   "metadata": {},
   "source": [
    "## Bar and Pie Charts"
   ]
  },
  {
   "cell_type": "markdown",
   "metadata": {},
   "source": [
    "Now that we have a clear summary of each drug's performance as measured by tumor volume (mm3), we can start to plot some of the key behaviors and trends we want to analyze. First we will visualize with Bar and Pie charts. "
   ]
  },
  {
   "cell_type": "code",
   "execution_count": 7,
   "metadata": {},
   "outputs": [
    {
     "data": {
      "image/png": "[encoded data removed]",
      "text/plain": [
       "<Figure size 864x504 with 1 Axes>"
      ]
     },
     "metadata": {
      "needs_background": "light"
     },
     "output_type": "display_data"
    }
   ],
   "source": [
    "#Pandas: Generating a bar plot showing the total number of mice for each treatment throughout study.\n",
    "#creating the dataframe\n",
    "x_axis = clean_complete['drug'].unique().tolist()\n",
    "y_axis = clean_complete.groupby(['drug'])['mouse_id'].count().tolist()\n",
    "drug_mouse = pd.DataFrame({'drug':x_axis, 'mice': y_axis})\n",
    "\n",
    "#creating the plot and formatting to match the last\n",
    "subject_plot = drug_mouse.plot(kind = \"bar\", figsize = (12,7), color = 'g')\n",
    "\n",
    "subject_plot.get_xticks()\n",
    "subject_plot.set_xticklabels(drug_mouse['drug'])\n",
    "subject_plot.set_title('The Number of Mice in Each Drug Regimen')\n",
    "subject_plot.set_xlabel('Drug Regimen')\n",
    "subject_plot.set_ylabel('Number of Mice in per Regimen in Trial')\n",
    "\n",
    "subject_plot.set_xlim(-1, len(x_axis))\n",
    "subject_plot.set_ylim(0, max(y_axis) + 5)\n",
    "\n",
    "#saving and showing bar chart\n",
    "plt.savefig('charts/drugsubjects_barchart1')\n",
    "plt.show()"
   ]
  },
  {
   "cell_type": "code",
   "execution_count": 8,
   "metadata": {
    "scrolled": true
   },
   "outputs": [
    {
     "data": {
      "image/png": "[encoded data removed]",
      "text/plain": [
       "<Figure size 864x504 with 1 Axes>"
      ]
     },
     "metadata": {
      "needs_background": "light"
     },
     "output_type": "display_data"
    }
   ],
   "source": [
    "#Matplotlib: Generating a bar plot showing the total number of mice for each treatment throughout study.\n",
    "x_axis = clean_complete['drug'].unique().tolist()\n",
    "y_axis = clean_complete.groupby(['drug'])['mouse_id'].count().tolist()\n",
    "\n",
    "#Creating and formatting the figure\n",
    "plt.figure(figsize = (12,7))\n",
    "plt.bar(x_axis, y_axis, color = 'g', align = 'center')\n",
    "plt.xlabel(\"Drug Regimens\")\n",
    "plt.ylabel(\"Number of Mice in per Regimen in Trial\")\n",
    "plt.title(\"The Number of Mice in Each Drug Regimen\")\n",
    "\n",
    "plt.xlim(-1, len(x_axis))\n",
    "plt.ylim(0, max(y_axis) + 5)\n",
    "\n",
    "#saving and showing bar chart\n",
    "plt.savefig('charts/drugsubjects_barchart2')\n",
    "plt.show()"
   ]
  },
  {
   "cell_type": "code",
   "execution_count": 9,
   "metadata": {},
   "outputs": [
    {
     "data": {
      "image/png": "[encoded data removed]",
      "text/plain": [
       "<Figure size 360x360 with 1 Axes>"
      ]
     },
     "metadata": {},
     "output_type": "display_data"
    }
   ],
   "source": [
    "#Pandas: Generating a pie chart showing male vs female subjects for each treatment throughout study.\n",
    "#the data to be used\n",
    "gender_group = clean_complete.groupby(['sex']).count()[['mouse_id']]\n",
    "labels = clean_complete['sex'].unique().tolist()\n",
    "\n",
    "#creating the pie chart\n",
    "gender_group.plot.pie(subplots = True, explode = (0, 0.1), labels = labels, autopct=\"%1.1f%%\", figsize = (5,5), shadow = True)\n",
    "plt.ylabel('Sex')\n",
    "plt.title('Male vs. Female Subjects in Study Population')\n",
    "\n",
    "#saving and showing pie chart\n",
    "plt.savefig('charts/subjectsex_piechart1')\n",
    "plt.show()"
   ]
  },
  {
   "cell_type": "code",
   "execution_count": 10,
   "metadata": {},
   "outputs": [
    {
     "name": "stderr",
     "output_type": "stream",
     "text": [
      "C:\\Users\\alexs\\anaconda3\\envs\\PythonData\\lib\\site-packages\\ipykernel_launcher.py:3: MatplotlibDeprecationWarning:\n",
      "\n",
      "Non-1D inputs to pie() are currently squeeze()d, but this behavior is deprecated since 3.1 and will be removed in 3.3; pass a 1D array instead.\n",
      "\n"
     ]
    },
    {
     "data": {
      "image/png": "[encoded data removed]",
      "text/plain": [
       "<Figure size 432x288 with 1 Axes>"
      ]
     },
     "metadata": {},
     "output_type": "display_data"
    }
   ],
   "source": [
    "#Matplotlib: Generating a pie chart showing male vs female subjects for each treatment throughout study.\n",
    "fig, ax = plt.subplots()\n",
    "ax.pie(gender_group, explode = (0, 0.1), labels = labels, autopct=\"%1.1f%%\", shadow = True)\n",
    "ax.set_ylabel('Sex')\n",
    "ax.set_title('Male vs. Female Subjects in Study Population')\n",
    "\n",
    "#showing pie chart\n",
    "plt.savefig('charts/subjectsex_piechart2')\n",
    "plt.show()"
   ]
  },
  {
   "cell_type": "markdown",
   "metadata": {},
   "source": [
    "## Quartiles, Outliers and Boxplots"
   ]
  },
  {
   "cell_type": "markdown",
   "metadata": {},
   "source": [
    "Now that we have looked more closely at our study population, we move on to the data range. We will look at the skew of our data, where most of our data lies with its range and we will look to see if there are any outliers in our data. "
   ]
  },
  {
   "cell_type": "code",
   "execution_count": 11,
   "metadata": {},
   "outputs": [
    {
     "data": {
      "text/html": [
       "<div>\n",
       "<style scoped>\n",
       "    .dataframe tbody tr th:only-of-type {\n",
       "        vertical-align: middle;\n",
       "    }\n",
       "\n",
       "    .dataframe tbody tr th {\n",
       "        vertical-align: top;\n",
       "    }\n",
       "\n",
       "    .dataframe thead th {\n",
       "        text-align: right;\n",
       "    }\n",
       "</style>\n",
       "<table border=\"1\" class=\"dataframe\">\n",
       "  <thead>\n",
       "    <tr style=\"text-align: right;\">\n",
       "      <th></th>\n",
       "      <th>mouse_id</th>\n",
       "      <th>drug</th>\n",
       "      <th>sex</th>\n",
       "      <th>age</th>\n",
       "      <th>weight</th>\n",
       "      <th>timepoint</th>\n",
       "      <th>tumor_volume</th>\n",
       "      <th>metastatic_sites</th>\n",
       "    </tr>\n",
       "  </thead>\n",
       "  <tbody>\n",
       "    <tr>\n",
       "      <th>9</th>\n",
       "      <td>k403</td>\n",
       "      <td>Ramicane</td>\n",
       "      <td>Male</td>\n",
       "      <td>21</td>\n",
       "      <td>16</td>\n",
       "      <td>45</td>\n",
       "      <td>22.050126</td>\n",
       "      <td>1</td>\n",
       "    </tr>\n",
       "    <tr>\n",
       "      <th>19</th>\n",
       "      <td>s185</td>\n",
       "      <td>Capomulin</td>\n",
       "      <td>Female</td>\n",
       "      <td>3</td>\n",
       "      <td>17</td>\n",
       "      <td>45</td>\n",
       "      <td>23.343598</td>\n",
       "      <td>1</td>\n",
       "    </tr>\n",
       "    <tr>\n",
       "      <th>29</th>\n",
       "      <td>x401</td>\n",
       "      <td>Capomulin</td>\n",
       "      <td>Female</td>\n",
       "      <td>16</td>\n",
       "      <td>15</td>\n",
       "      <td>45</td>\n",
       "      <td>28.484033</td>\n",
       "      <td>0</td>\n",
       "    </tr>\n",
       "    <tr>\n",
       "      <th>39</th>\n",
       "      <td>m601</td>\n",
       "      <td>Capomulin</td>\n",
       "      <td>Male</td>\n",
       "      <td>22</td>\n",
       "      <td>17</td>\n",
       "      <td>45</td>\n",
       "      <td>28.430964</td>\n",
       "      <td>1</td>\n",
       "    </tr>\n",
       "    <tr>\n",
       "      <th>49</th>\n",
       "      <td>g791</td>\n",
       "      <td>Ramicane</td>\n",
       "      <td>Male</td>\n",
       "      <td>11</td>\n",
       "      <td>16</td>\n",
       "      <td>45</td>\n",
       "      <td>29.128472</td>\n",
       "      <td>1</td>\n",
       "    </tr>\n",
       "    <tr>\n",
       "      <th>...</th>\n",
       "      <td>...</td>\n",
       "      <td>...</td>\n",
       "      <td>...</td>\n",
       "      <td>...</td>\n",
       "      <td>...</td>\n",
       "      <td>...</td>\n",
       "      <td>...</td>\n",
       "      <td>...</td>\n",
       "    </tr>\n",
       "    <tr>\n",
       "      <th>1797</th>\n",
       "      <td>x822</td>\n",
       "      <td>Ceftamin</td>\n",
       "      <td>Male</td>\n",
       "      <td>3</td>\n",
       "      <td>29</td>\n",
       "      <td>45</td>\n",
       "      <td>61.386660</td>\n",
       "      <td>3</td>\n",
       "    </tr>\n",
       "    <tr>\n",
       "      <th>1813</th>\n",
       "      <td>y163</td>\n",
       "      <td>Infubinol</td>\n",
       "      <td>Female</td>\n",
       "      <td>17</td>\n",
       "      <td>27</td>\n",
       "      <td>45</td>\n",
       "      <td>67.685569</td>\n",
       "      <td>3</td>\n",
       "    </tr>\n",
       "    <tr>\n",
       "      <th>1845</th>\n",
       "      <td>y769</td>\n",
       "      <td>Ceftamin</td>\n",
       "      <td>Female</td>\n",
       "      <td>6</td>\n",
       "      <td>27</td>\n",
       "      <td>45</td>\n",
       "      <td>68.594745</td>\n",
       "      <td>4</td>\n",
       "    </tr>\n",
       "    <tr>\n",
       "      <th>1855</th>\n",
       "      <td>y865</td>\n",
       "      <td>Ceftamin</td>\n",
       "      <td>Male</td>\n",
       "      <td>23</td>\n",
       "      <td>26</td>\n",
       "      <td>45</td>\n",
       "      <td>64.729837</td>\n",
       "      <td>3</td>\n",
       "    </tr>\n",
       "    <tr>\n",
       "      <th>1872</th>\n",
       "      <td>z581</td>\n",
       "      <td>Infubinol</td>\n",
       "      <td>Female</td>\n",
       "      <td>24</td>\n",
       "      <td>25</td>\n",
       "      <td>45</td>\n",
       "      <td>62.754451</td>\n",
       "      <td>3</td>\n",
       "    </tr>\n",
       "  </tbody>\n",
       "</table>\n",
       "<p>100 rows × 8 columns</p>\n",
       "</div>"
      ],
      "text/plain": [
       "     mouse_id       drug     sex  age  weight  timepoint  tumor_volume  \\\n",
       "9        k403   Ramicane    Male   21      16         45     22.050126   \n",
       "19       s185  Capomulin  Female    3      17         45     23.343598   \n",
       "29       x401  Capomulin  Female   16      15         45     28.484033   \n",
       "39       m601  Capomulin    Male   22      17         45     28.430964   \n",
       "49       g791   Ramicane    Male   11      16         45     29.128472   \n",
       "...       ...        ...     ...  ...     ...        ...           ...   \n",
       "1797     x822   Ceftamin    Male    3      29         45     61.386660   \n",
       "1813     y163  Infubinol  Female   17      27         45     67.685569   \n",
       "1845     y769   Ceftamin  Female    6      27         45     68.594745   \n",
       "1855     y865   Ceftamin    Male   23      26         45     64.729837   \n",
       "1872     z581  Infubinol  Female   24      25         45     62.754451   \n",
       "\n",
       "      metastatic_sites  \n",
       "9                    1  \n",
       "19                   1  \n",
       "29                   0  \n",
       "39                   1  \n",
       "49                   1  \n",
       "...                ...  \n",
       "1797                 3  \n",
       "1813                 3  \n",
       "1845                 4  \n",
       "1855                 3  \n",
       "1872                 3  \n",
       "\n",
       "[100 rows x 8 columns]"
      ]
     },
     "execution_count": 11,
     "metadata": {},
     "output_type": "execute_result"
    }
   ],
   "source": [
    "# Calculate the final tumor volume of each mouse across four of the treatment regimens:  \n",
    "# Capomulin, Ramicane, Infubinol, and Ceftamin\n",
    "\n",
    "# Start by getting the last (greatest) timepoint for each mouse\n",
    "last_time = mouse_study.drop_duplicates(subset = 'mouse_id', keep = 'last', inplace = False) \n",
    "\n",
    "# Merge this group df with the original dataframe to get the tumor volume at the last timepoint\n",
    "top4 = last_time[(last_time['drug'] == 'Capomulin') | (last_time['drug'] == 'Ramicane') | (last_time['drug'] == 'Infubinol') | (last_time['drug'] == 'Ceftamin')]\n",
    "top4"
   ]
  },
  {
   "cell_type": "code",
   "execution_count": 21,
   "metadata": {},
   "outputs": [
    {
     "name": "stdout",
     "output_type": "stream",
     "text": [
      "The lower quartile of the tumor volume data is: 37.187743802499995.\n",
      "The upper quartile of the tumor volume data is: 59.930261755000004.\n",
      "The interquartile range of the tumor volume data is: 22.74251795250001.\n",
      "The the median of the tumor volume data is: 45.0.\n",
      "There are no outliers in the Tumor Volume data for the top four regimens.\n"
     ]
    }
   ],
   "source": [
    "# Put treatments into a list for for loop (and later for plot labels)\n",
    "regimens = top4['drug'].tolist()\n",
    "\n",
    "# Create empty list to fill with tumor vol data (for plotting)\n",
    "vol_data = []\n",
    "outlier_list = []\n",
    "\n",
    "# Calculate the IQR and quantitatively determine if there are any potential outliers. \n",
    "quartiles = top4['tumor_volume'].quantile([.25,.5,.75])\n",
    "lowerq = quartiles[.25]\n",
    "upperq = quartiles[.75]\n",
    "iqr = upperq-lowerq\n",
    "\n",
    "#Finding outliers with pandas function\n",
    "def outliers(df): \n",
    "    lower_bound = lowerq - (1.5*iqr)\n",
    "    upper_bound = upperq + (1.5*iqr)\n",
    "    tum_vol = top4['tumor_volume']\n",
    "    for volume in tum_vol:\n",
    "        if volume > upper_bound or volume < lower_bound:\n",
    "            outlier_list.append(volume)\n",
    "            vol_data.append(volume)\n",
    "        else:\n",
    "            vol_data.append(volume)\n",
    "    return outlier_list\n",
    "\n",
    "outliers(top4)\n",
    "\n",
    "#Printing out results of Quartile and Outlier Analysis\n",
    "print(f\"The lower quartile of the tumor volume data is: {lowerq}.\")\n",
    "print(f\"The upper quartile of the tumor volume data is: {upperq}.\")\n",
    "print(f\"The interquartile range of the tumor volume data is: {iqr}.\")\n",
    "print(f\"The the median of the tumor volume data is: {quartiles[0.5]}.\")\n",
    "if len(outlier_list) != 0:\n",
    "    print(f\"The full dataset for tumor volume in all regimens contains the following outlier(s):\" + str(outlier_list))\n",
    "else:\n",
    "    print(\"There are no outliers in the Tumor Volume data for the top four regimens.\")"
   ]
  },
  {
   "cell_type": "code",
   "execution_count": 22,
   "metadata": {},
   "outputs": [
    {
     "data": {
      "image/png": "[encoded data removed]",
      "text/plain": [
       "<Figure size 432x288 with 1 Axes>"
      ]
     },
     "metadata": {
      "needs_background": "light"
     },
     "output_type": "display_data"
    }
   ],
   "source": [
    "#This is a Box and Whiskers Plot for the data for all 4 regimens. It will be a guide for the \n",
    "green_diamond = dict(markerfacecolor='g', marker='D')\n",
    "fig1, ax1 = plt.subplots()\n",
    "ax1.set_title('Final Tumor Volume in All Regimens')\n",
    "ax1.set_ylabel('Final Tumor Volume (mm3)')\n",
    "ax1.boxplot(vol_data, flierprops=green_diamond)\n",
    "plt.show()"
   ]
  },
  {
   "cell_type": "code",
   "execution_count": 24,
   "metadata": {},
   "outputs": [
    {
     "name": "stdout",
     "output_type": "stream",
     "text": [
      "The lower quartile of Capomulin's tumor volume data is: 32.37735684\n",
      "The upper quartile of Capomulin's tumor volume is: 40.1592203\n",
      "The interquartile range of Capomulin's tumor volume is: 7.781863460000004\n",
      "The the median of Capomulin's tumor volume is: 38.125164399999996 \n",
      "There are no outliers in the Tumor Volume data for Capomulin.\n"
     ]
    }
   ],
   "source": [
    "#Analyzing the Quartiles and Outliers of Capomulin\n",
    "#Capomulin DataFrame\n",
    "capo_data = top4[top4['drug'].isin(['Capomulin'])]\n",
    "\n",
    "#Creating Empty lists for to loop through for plotting\n",
    "capo_vol = []\n",
    "capo_outliers = []\n",
    "\n",
    "# Calculate the IQR and quantitatively determine if there are any potential outliers. \n",
    "quartiles = capo_data['tumor_volume'].quantile([.25,.5,.75])\n",
    "capo_lowerq = quartiles[.25]\n",
    "capo_upperq = quartiles[.75]\n",
    "capo_iqr = capo_upperq-capo_lowerq\n",
    "\n",
    "#Finding outliers with pandas function\n",
    "def outliers(df): \n",
    "    lower_bound = capo_lowerq - (1.5*capo_iqr)\n",
    "    upper_bound = capo_upperq + (1.5*capo_iqr)\n",
    "    tum_vol = capo_data['tumor_volume']\n",
    "    for volume in tum_vol:\n",
    "        if volume > upper_bound or volume < lower_bound:\n",
    "            capo_outliers.append(volume)\n",
    "            capo_vol.append(volume)\n",
    "        else:\n",
    "            capo_vol.append(volume)\n",
    "    return capo_outliers\n",
    "\n",
    "outliers(capo_data)\n",
    "\n",
    "print(f\"The lower quartile of Capomulin's tumor volume data is: {capo_lowerq}\")\n",
    "print(f\"The upper quartile of Capomulin's tumor volume is: {capo_upperq}\")\n",
    "print(f\"The interquartile range of Capomulin's tumor volume is: {capo_iqr}\")\n",
    "print(f\"The the median of Capomulin's tumor volume is: {quartiles[0.5]} \")\n",
    "if len(capo_outliers) != 0:\n",
    "    print(f\"The data for Capomulin contains the following outlier(s):\" + str(capo_outliers))\n",
    "else:\n",
    "    print(\"There are no outliers in the Tumor Volume data for Capomulin.\")"
   ]
  },
  {
   "cell_type": "code",
   "execution_count": 83,
   "metadata": {},
   "outputs": [
    {
     "data": {
      "image/png": "[encoded data removed]",
      "text/plain": [
       "<Figure size 432x288 with 1 Axes>"
      ]
     },
     "metadata": {
      "needs_background": "light"
     },
     "output_type": "display_data"
    }
   ],
   "source": [
    "#Creating the Box and Whiskers plot for Capomulin\n",
    "green_diamond = dict(markerfacecolor='g', marker='D')\n",
    "fig2, ax2 = plt.subplots()\n",
    "ax2.set_title('Final Tumor Volume for Capomulin')\n",
    "ax2.set_ylabel('Final Tumor Volume (mm3)')\n",
    "ax2.boxplot(capo_vol, flierprops=green_diamond)\n",
    "plt.show()"
   ]
  },
  {
   "cell_type": "code",
   "execution_count": 27,
   "metadata": {},
   "outputs": [
    {
     "name": "stdout",
     "output_type": "stream",
     "text": [
      "The lower quartile of Ramicane's tumor volume data is: 31.56046955\n",
      "The upper quartile of Ramicane's tumor volume data is: 40.65900627\n",
      "The interquartile range of Ramicane's tumor volume data is: 9.098536719999998\n",
      "The the median of Ramicane's tumor volume data is: 36.56165229 \n",
      "There are no outliers in the Tumor Volume data for Ramicane.\n"
     ]
    }
   ],
   "source": [
    "#Analyzing the Quartiles and Outliers of Ramicane\n",
    "#Ramicane DataFrame\n",
    "rami_data = top4[top4['drug'].isin(['Ramicane'])]\n",
    "\n",
    "#Creating Empty lists for to loop through for plotting\n",
    "rami_vol = []\n",
    "rami_outliers = []\n",
    "\n",
    "# Calculate the IQR and quantitatively determine if there are any potential outliers. \n",
    "quartiles = rami_data['tumor_volume'].quantile([.25,.5,.75])\n",
    "rami_lowerq = quartiles[.25]\n",
    "rami_upperq = quartiles[.75]\n",
    "rami_iqr = rami_upperq-rami_lowerq\n",
    "\n",
    "#Finding outliers with pandas function\n",
    "def outliers(df): \n",
    "    lower_bound = rami_lowerq - (1.5*rami_iqr)\n",
    "    upper_bound = rami_upperq + (1.5*rami_iqr)\n",
    "    tum_vol = rami_data['tumor_volume']\n",
    "    for volume in tum_vol:\n",
    "        if volume > upper_bound or volume < lower_bound:\n",
    "            rami_outliers.append(volume)\n",
    "            rami_vol.append(volume)\n",
    "        else:\n",
    "            rami_vol.append(volume)\n",
    "    return rami_outliers\n",
    "\n",
    "outliers(rami_data)\n",
    "\n",
    "print(f\"The lower quartile of Ramicane's tumor volume data is: {rami_lowerq}\")\n",
    "print(f\"The upper quartile of Ramicane's tumor volume data is: {rami_upperq}\")\n",
    "print(f\"The interquartile range of Ramicane's tumor volume data is: {rami_iqr}\")\n",
    "print(f\"The the median of Ramicane's tumor volume data is: {quartiles[0.5]} \")\n",
    "if len(rami_outliers) != 0:\n",
    "    print(f\"The data for Ramicane contains the following outlier(s):\" + str(rami_outliers))\n",
    "else: print(\"There are no outliers in the Tumor Volume data for Ramicane.\")"
   ]
  },
  {
   "cell_type": "code",
   "execution_count": 28,
   "metadata": {},
   "outputs": [
    {
     "data": {
      "image/png": "[encoded data removed]",
      "text/plain": [
       "<Figure size 432x288 with 1 Axes>"
      ]
     },
     "metadata": {
      "needs_background": "light"
     },
     "output_type": "display_data"
    }
   ],
   "source": [
    "#Creating the Box and Whiskers plot for Ramicane\n",
    "green_diamond = dict(markerfacecolor='g', marker='D')\n",
    "fig3, ax3 = plt.subplots()\n",
    "ax3.set_title('Final Tumor Volume for Ramicane')\n",
    "ax3.set_ylabel('Final Tumor Volume (mm3)')\n",
    "ax3.boxplot(rami_vol, flierprops=green_diamond)\n",
    "plt.show()"
   ]
  },
  {
   "cell_type": "code",
   "execution_count": 29,
   "metadata": {},
   "outputs": [
    {
     "name": "stdout",
     "output_type": "stream",
     "text": [
      "The lower quartile of Infubinol's tumor volume data is: 54.04860769\n",
      "The upper quartile of Infubinol's tumor volume data is: 65.52574285\n",
      "The interquartile range of Infubinol's tumor volume data is: 11.477135160000003\n",
      "The the median of Infubinol's tumor volume data is: 60.16518046 \n",
      "The data for Infubinol contains the following outlier(s):[36.321345799999996]\n"
     ]
    }
   ],
   "source": [
    "#Analyzing the Quartiles and Outliers of Infubinol\n",
    "#Infubinol DataFrame\n",
    "infu_data = top4[top4['drug'].isin(['Infubinol'])]\n",
    "\n",
    "#Creating Empty lists for to loop through for plotting\n",
    "infu_vol = []\n",
    "infu_outliers = []\n",
    "\n",
    "# Calculate the IQR and quantitatively determine if there are any potential outliers. \n",
    "quartiles = infu_data['tumor_volume'].quantile([.25,.5,.75])\n",
    "infu_lowerq = quartiles[.25]\n",
    "infu_upperq = quartiles[.75]\n",
    "infu_iqr = infu_upperq-infu_lowerq\n",
    "\n",
    "#Finding outliers with pandas function\n",
    "def outliers(df): \n",
    "    lower_bound = infu_lowerq - (1.5*infu_iqr)\n",
    "    upper_bound = infu_upperq + (1.5*infu_iqr)\n",
    "    tum_vol = infu_data['tumor_volume']\n",
    "    for volume in tum_vol:\n",
    "        if volume > upper_bound or volume < lower_bound:\n",
    "            infu_outliers.append(volume)\n",
    "            infu_vol.append(volume)\n",
    "        else:\n",
    "            infu_vol.append(volume)\n",
    "    return infu_outliers\n",
    "\n",
    "outliers(infu_data)\n",
    "\n",
    "print(f\"The lower quartile of Infubinol's tumor volume data is: {infu_lowerq}\")\n",
    "print(f\"The upper quartile of Infubinol's tumor volume data is: {infu_upperq}\")\n",
    "print(f\"The interquartile range of Infubinol's tumor volume data is: {infu_iqr}\")\n",
    "print(f\"The the median of Infubinol's tumor volume data is: {quartiles[0.5]} \")\n",
    "if len(infu_outliers) != 0:\n",
    "    print(f\"The data for Infubinol contains the following outlier(s):\" + str(infu_outliers))\n",
    "else: print(\"There are no outliers in the Tumor Volume data for Infubinol.\")"
   ]
  },
  {
   "cell_type": "code",
   "execution_count": 30,
   "metadata": {},
   "outputs": [
    {
     "data": {
      "image/png": "[encoded data removed]",
      "text/plain": [
       "<Figure size 432x288 with 1 Axes>"
      ]
     },
     "metadata": {
      "needs_background": "light"
     },
     "output_type": "display_data"
    }
   ],
   "source": [
    "#Creating the Box and Whiskers plot for Infubinol\n",
    "green_diamond = dict(markerfacecolor='g', marker='D')\n",
    "fig4, ax4 = plt.subplots()\n",
    "ax4.set_title('Final Tumor Volume for Infubinol')\n",
    "ax4.set_ylabel('Final Tumor Volume (mm3)')\n",
    "ax4.boxplot(infu_vol, showfliers=green_diamond)\n",
    "plt.show()"
   ]
  },
  {
   "cell_type": "code",
   "execution_count": 31,
   "metadata": {},
   "outputs": [
    {
     "name": "stdout",
     "output_type": "stream",
     "text": [
      "The lower quartile of Ceftamin's tumor volume data is: 48.72207785\n",
      "The upper quartile of Ceftamin's tumor volume data is: 64.29983003\n",
      "The interquartile range of Ceftamin's tumor volume data is: 15.577752179999997\n",
      "The the median of Ceftamin's tumor volume data is: 59.85195552 \n",
      "There are no outliers in the Tumor Volume data for Ceftamin.\n"
     ]
    }
   ],
   "source": [
    "#Analyzing the Quartiles and Outliers of Ceftamin\n",
    "#Ceftamin DataFrame\n",
    "ceft_data = top4[top4['drug'].isin(['Ceftamin'])]\n",
    "\n",
    "#Creating Empty lists for to loop through for plotting\n",
    "ceft_vol = []\n",
    "ceft_outliers = []\n",
    "\n",
    "# Calculate the IQR and quantitatively determine if there are any potential outliers. \n",
    "quartiles = ceft_data['tumor_volume'].quantile([.25,.5,.75])\n",
    "ceft_lowerq = quartiles[.25]\n",
    "ceft_upperq = quartiles[.75]\n",
    "ceft_iqr = ceft_upperq-ceft_lowerq\n",
    "\n",
    "#Finding outliers with pandas function\n",
    "def outliers(df): \n",
    "    lower_bound = ceft_lowerq - (1.5*ceft_iqr)\n",
    "    upper_bound = ceft_upperq + (1.5*ceft_iqr)\n",
    "    tum_vol = ceft_data['tumor_volume']\n",
    "    for volume in tum_vol:\n",
    "        if volume > upper_bound or volume < lower_bound:\n",
    "            ceft_outliers.append(volume)\n",
    "            ceft_vol.append(volume)\n",
    "        else:\n",
    "            ceft_vol.append(volume)\n",
    "    return ceft_outliers\n",
    "\n",
    "outliers(ceft_data)\n",
    "\n",
    "print(f\"The lower quartile of Ceftamin's tumor volume data is: {ceft_lowerq}\")\n",
    "print(f\"The upper quartile of Ceftamin's tumor volume data is: {ceft_upperq}\")\n",
    "print(f\"The interquartile range of Ceftamin's tumor volume data is: {ceft_iqr}\")\n",
    "print(f\"The the median of Ceftamin's tumor volume data is: {quartiles[0.5]} \")\n",
    "if len(ceft_outliers) != 0:\n",
    "    print(f\"The data for Ceftamin contains the following outlier(s):\" + str(ceft_outliers))\n",
    "else: print(\"There are no outliers in the Tumor Volume data for Ceftamin.\")"
   ]
  },
  {
   "cell_type": "code",
   "execution_count": 32,
   "metadata": {},
   "outputs": [
    {
     "data": {
      "image/png": "[encoded data removed]",
      "text/plain": [
       "<Figure size 432x288 with 1 Axes>"
      ]
     },
     "metadata": {
      "needs_background": "light"
     },
     "output_type": "display_data"
    }
   ],
   "source": [
    "#Creating the Box and Whiskers plot for Ceftamin\n",
    "green_diamond = dict(markerfacecolor='g', marker='D')\n",
    "fig4, ax5 = plt.subplots()\n",
    "ax5.set_title('Final Tumor Volume for Ceftamin')\n",
    "ax5.set_ylabel('Final Tumor Volume (mm3)')\n",
    "ax5.boxplot(ceft_vol, showfliers=green_diamond)\n",
    "plt.show()"
   ]
  },
  {
   "cell_type": "code",
   "execution_count": 34,
   "metadata": {},
   "outputs": [
    {
     "data": {
      "text/plain": [
       "'temp-plot.html'"
      ]
     },
     "execution_count": 34,
     "metadata": {},
     "output_type": "execute_result"
    }
   ],
   "source": [
    "#Combining the box and whiskers into one plot using plotly (just to try- found it while working on the homework)\n",
    "trace0 = go.Box(\n",
    "        y = capo_vol,\n",
    "        name = \"Capomulin\"\n",
    ")\n",
    "trace1 = go.Box(\n",
    "        y = rami_vol,\n",
    "        name = \"Ramicane\"\n",
    ")\n",
    "trace2 = go.Box(\n",
    "        y = infu_vol,\n",
    "        name = \"Infubinol\"\n",
    ")\n",
    "trace3 = go.Box(\n",
    "        y = ceft_vol,\n",
    "        name = \"Ceftamin\"\n",
    ")\n",
    "data = [trace0, trace1, trace2, trace3]\n",
    "layout = go.Layout(title = \"Final Tumor Volume (mm3) for the Top Four Drug Regimens\")\n",
    "fig = go.Figure(data=data, layout=layout)\n",
    "pyo.plot(fig)"
   ]
  },
  {
   "cell_type": "code",
   "execution_count": 104,
   "metadata": {},
   "outputs": [
    {
     "data": {
      "image/png": "[encoded data removed]",
      "text/plain": [
       "<Figure size 360x1440 with 5 Axes>"
      ]
     },
     "metadata": {
      "needs_background": "light"
     },
     "output_type": "display_data"
    }
   ],
   "source": [
    "#Combining plots using matplotlib\n",
    "#formatting outliers\n",
    "green_diamond = dict(markerfacecolor='g', marker='D')\n",
    "\n",
    "#Creating the figure\n",
    "fig, (ax1, ax2, ax3, ax4, ax5) = plt.subplots(5, figsize = (5,20), sharex = True, sharey = True)\n",
    "fig.suptitle(\"Tumor Volume at Final Time Point for Drug Trials\", fontsize = 16, fontweight = \"bold\")\n",
    "\n",
    "ax1 = plt.subplot(511)\n",
    "ax1.set_title('Final Tumor Volume in All Regimens')\n",
    "ax1.boxplot(vol_data, flierprops=green_diamond)\n",
    "\n",
    "ax2 = plt.subplot(512, sharey = ax1)\n",
    "ax2.set_title('Final Tumor Volume for Capomulin')\n",
    "ax2.boxplot(capo_vol, flierprops=green_diamond)\n",
    "\n",
    "ax3 = plt.subplot(513, sharey = ax1)\n",
    "ax3.set_title('Final Tumor Volume for Ramicane')\n",
    "ax3.set_ylabel('Final Tumor Volume (mm3)')\n",
    "ax3.boxplot(rami_vol, flierprops=green_diamond)\n",
    "\n",
    "ax4 = plt.subplot(514, sharey = ax1)\n",
    "ax4.set_title('Final Tumor Volume for Infubinol')\n",
    "ax4.boxplot(infu_vol, showfliers=green_diamond)\n",
    "\n",
    "ax5 = plt.subplot(515, sharey = ax1)\n",
    "ax5.set_title('Final Tumor Volume for Ceftamin')\n",
    "ax5.boxplot(ceft_vol, showfliers=green_diamond)\n",
    "\n",
    "#Save and Show plot\n",
    "plt.savefig('charts/tumorvol_boxplots')\n",
    "plt.show()"
   ]
  },
  {
   "cell_type": "markdown",
   "metadata": {},
   "source": [
    "## Line and Scatter Plots"
   ]
  },
  {
   "cell_type": "code",
   "execution_count": 105,
   "metadata": {},
   "outputs": [
    {
     "data": {
      "image/png": "[encoded data removed]",
      "text/plain": [
       "<Figure size 432x288 with 1 Axes>"
      ]
     },
     "metadata": {
      "needs_background": "light"
     },
     "output_type": "display_data"
    }
   ],
   "source": [
    " # Generate a line plot of time point versus tumor volume for a mouse treated with Capomulin\n",
    "\n",
    "# Filter original data for just the Capomulin Drug Regime\n",
    "capomulin_mice = mouse_study.loc[(mouse_study[\"drug\"] == \"Capomulin\"),:]\n",
    "capomulin_mouse = capomulin_mice.loc[(capomulin_mice['mouse_id'] == 's185'),:]\n",
    "\n",
    "# Set variables to hold relevant data\n",
    "timept = capomulin_mouse[\"timepoint\"]\n",
    "tumor_vol = capomulin_mouse[\"tumor_volume\"]\n",
    "\n",
    "# Plot the tumor volume for various mice\n",
    "tumor_volume_line, = plt.plot(timept, tumor_vol, marker = 'D')\n",
    "\n",
    "# Show the chart, add labels\n",
    "plt.xlabel('Timepoint')\n",
    "plt.ylabel('Tumor Volume')\n",
    "plt.title('Tumor Volume over Time for One Mouse on Capomulin')\n",
    "\n",
    "#Save and show figure\n",
    "plt.savefig('charts/capomouse_tumvol_vs_time')\n",
    "plt.show()"
   ]
  },
  {
   "cell_type": "code",
   "execution_count": 106,
   "metadata": {},
   "outputs": [
    {
     "data": {
      "image/png": "[encoded data removed]",
      "text/plain": [
       "<Figure size 432x288 with 1 Axes>"
      ]
     },
     "metadata": {
      "needs_background": "light"
     },
     "output_type": "display_data"
    }
   ],
   "source": [
    " # Generate a line plot of time point versus tumor volume for the mice treated with Capomulin\n",
    "\n",
    "# Filter original data for just the Capomulin Drug Regime\n",
    "capomulin_mice = mouse_study.loc[(mouse_study[\"drug\"] == \"Capomulin\"),:]\n",
    "\n",
    "# Set variables to hold relevant data\n",
    "timept = capomulin_mice[\"timepoint\"]\n",
    "tumor_vol = capomulin_mice[\"tumor_volume\"]\n",
    "\n",
    "# Plot the tumor volume for various mice\n",
    "tumor_volume_line, = plt.plot(timept, tumor_vol, marker = 's', color = 'black')\n",
    "\n",
    "# Show the chart, add labels\n",
    "plt.xlabel('Timepoint')\n",
    "plt.ylabel('Tumor Volume')\n",
    "plt.title('Tumor Volume over Time for Capomulin Mice')\n",
    "\n",
    "#Save and show plot\n",
    "plt.savefig('charts/capomice_tumvol_vs_time')\n",
    "plt.show()"
   ]
  },
  {
   "cell_type": "code",
   "execution_count": 107,
   "metadata": {},
   "outputs": [
    {
     "data": {
      "image/png": "[encoded data removed]",
      "text/plain": [
       "<Figure size 432x288 with 1 Axes>"
      ]
     },
     "metadata": {
      "needs_background": "light"
     },
     "output_type": "display_data"
    }
   ],
   "source": [
    " # Generate a scatter plot of mouse weight versus average tumor volume for the Capomulin regimen\n",
    "\n",
    "# Pull values for x and y values\n",
    "mouse_weight = capomulin_mice.groupby(capomulin_mice[\"mouse_id\"])[\"weight\"].mean()\n",
    "tumor_volume = capomulin_mice.groupby(capomulin_mice[\"mouse_id\"])[\"tumor_volume\"].mean()\n",
    "\n",
    "# Create Scatter Plot with values calculated above\n",
    "plt.scatter(mouse_weight,tumor_volume)\n",
    "plt.xlabel(\"Weight of Mouse\")\n",
    "plt.ylabel(\"Tumor Volume (mm3)\")\n",
    "plt.title(\"Weight of Mouse vs. Tumor Volume on Capomulin\")\n",
    "\n",
    "#Save and show plot\n",
    "plt.savefig('charts/weight_vs_tumvol_scatter')\n",
    "plt.show()"
   ]
  },
  {
   "cell_type": "markdown",
   "metadata": {},
   "source": [
    "The graph above is a scatterplot of the mice through all the timepoints during the Capomulin trial, so the mean of their weight and the tumor volume is an average for the entirety of the trial and therefore may not be representative of any specific time point. As we see in the previous line chart of weight over time in the trial, weight fluctuate drastically throughout the trial. What we can see from this graph is that there seems to be a positive correlation between weight of the mouse and tumor volume throughout the trial."
   ]
  },
  {
   "cell_type": "markdown",
   "metadata": {},
   "source": [
    "## Correlation and Regression"
   ]
  },
  {
   "cell_type": "code",
   "execution_count": 108,
   "metadata": {},
   "outputs": [
    {
     "data": {
      "image/png": "[encoded data removed]",
      "text/plain": [
       "<Figure size 432x288 with 1 Axes>"
      ]
     },
     "metadata": {
      "needs_background": "light"
     },
     "output_type": "display_data"
    },
    {
     "name": "stdout",
     "output_type": "stream",
     "text": [
      "The correlation between weight and tumor value is 0.84\n"
     ]
    }
   ],
   "source": [
    " # Calculate the correlation coefficient and linear regression model for mouse weight and average tumor volume for the Capomulin regimen \n",
    "\n",
    "# Pull values for x and y values\n",
    "mouse_weight = capomulin_mice.groupby(capomulin_mice[\"mouse_id\"])[\"weight\"].mean()\n",
    "tumor_vol = capomulin_mice.groupby(capomulin_mice[\"mouse_id\"])[\"tumor_volume\"].mean()\n",
    "\n",
    "# Perform a linear regression on tumor volume versus mouse weight\n",
    "slope, int, r, p, std_err = st.linregress(mouse_weight, tumor_vol)\n",
    "      \n",
    "# Create equation of line to calculate predicted weight\n",
    "fit = slope * mouse_weight + int\n",
    "line_eq = 'y = ' +str(round(slope,2)) + 'x +' + str(round(int,2))\n",
    "\n",
    "# Plot the linear model on top of scatter plot \n",
    "plt.scatter(mouse_weight,tumor_vol)\n",
    "plt.xlabel(\"Weight of Mouse\")\n",
    "plt.ylabel(\"Tumor Volume\")\n",
    "plt.title(\"Weight of Mouse vs. Tumor Volume on Capomulin\")\n",
    "plt.plot(mouse_weight,fit,\"-\")\n",
    "plt.annotate(line_eq, (18,37), fontsize=15)\n",
    "plt.xticks(mouse_weight, rotation=90)\n",
    "\n",
    "#save and show plot\n",
    "plt.savefig('charts/weight_vs_tumvol_regress')\n",
    "plt.show()\n",
    "\n",
    "# Caculate correlation coefficient\n",
    "corr = round(st.pearsonr(mouse_weight,tumor_vol)[0],2)\n",
    "print(f'The correlation between weight and tumor value is {corr}')"
   ]
  },
  {
   "cell_type": "code",
   "execution_count": null,
   "metadata": {},
   "outputs": [],
   "source": []
  }
 ],
 "metadata": {
  "kernelspec": {
   "display_name": "Python [conda env:PythonData] *",
   "language": "python",
   "name": "conda-env-PythonData-py"
  },
  "language_info": {
   "codemirror_mode": {
    "name": "ipython",
    "version": 3
   },
   "file_extension": ".py",
   "mimetype": "text/x-python",
   "name": "python",
   "nbconvert_exporter": "python",
   "pygments_lexer": "ipython3",
   "version": "3.6.10"
  }
 },
 "nbformat": 4,
 "nbformat_minor": 4
}
